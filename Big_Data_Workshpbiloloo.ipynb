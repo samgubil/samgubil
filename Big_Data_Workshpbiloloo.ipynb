{
  "nbformat": 4,
  "nbformat_minor": 0,
  "metadata": {
    "colab": {
      "provenance": [],
      "include_colab_link": true
    },
    "kernelspec": {
      "name": "python3",
      "display_name": "Python 3"
    },
    "language_info": {
      "name": "python"
    }
  },
  "cells": [
    {
      "cell_type": "markdown",
      "metadata": {
        "id": "view-in-github",
        "colab_type": "text"
      },
      "source": [
        "<a href=\"https://colab.research.google.com/github/samgubil/samgubil/blob/main/Big_Data_Workshpbiloloo.ipynb\" target=\"_parent\"><img src=\"https://colab.research.google.com/assets/colab-badge.svg\" alt=\"Open In Colab\"/></a>"
      ]
    },
    {
      "cell_type": "markdown",
      "source": [
        "# **Introduction**"
      ],
      "metadata": {
        "id": "GBZ9zirfkZsy"
      }
    },
    {
      "cell_type": "markdown",
      "source": [
        "**PySpark** is the Python library for **Apache Spark**, an open-source, distributed computing system designed to process large volumes of data quickly and efficiently. It combines the power of Spark's distributed computing capabilities with the ease and flexibility of the Python programming language. PySpark is particularly well-suited for big data processing, machine learning, and graph processing tasks.\n",
        "\n",
        "Apache Spark can process data in parallel across a cluster of computers, allowing it to handle massive datasets with ease. It is built on top of the **Hadoop Distributed File System (HDFS)** and can also process data from other storage systems like Amazon S3, Apache HBase, Apache Cassandra, and more.\n",
        "\n",
        "PySpark provides a simple and intuitive API that allows developers to express complex data transformations, aggregations, and machine learning algorithms with just a few lines of code. The library includes a rich set of functions and data structures for working with structured and semi-structured data, such as **DataFrames** and **Datasets**.\n",
        "\n",
        "In this tutorial, you will learn how to set up PySpark on **Google Colab**, a popular platform for interactive Python development in the cloud. This will enable you to leverage the power of Apache Spark without the need for local installation or configuration. We will cover various aspects of working with PySpark DataFrames, including data manipulation, transformation, and analysis, as well as integration with machine learning libraries.\n",
        "\n",
        "By the end of this tutorial, you will have a solid understanding of PySpark and its applications in big data processing."
      ],
      "metadata": {
        "id": "gxwwjvgykX7l"
      }
    },
    {
      "cell_type": "markdown",
      "source": [
        "#**Installing PySpark in Google Colab**"
      ],
      "metadata": {
        "id": "k11v1Wy-cb4j"
      }
    },
    {
      "cell_type": "code",
      "source": [
        "# Hide warning message\n",
        "import warnings\n",
        "warnings.filterwarnings('ignore')"
      ],
      "metadata": {
        "id": "dY8VAiWm1jWT"
      },
      "execution_count": 1,
      "outputs": []
    },
    {
      "cell_type": "code",
      "source": [
        "!pip install pyspark"
      ],
      "metadata": {
        "id": "8PhYlRkzjowy",
        "colab": {
          "base_uri": "https://localhost:8080/"
        },
        "outputId": "81da206e-bf86-4524-ccf0-57cef1bee80b"
      },
      "execution_count": 2,
      "outputs": [
        {
          "output_type": "stream",
          "name": "stdout",
          "text": [
            "Looking in indexes: https://pypi.org/simple, https://us-python.pkg.dev/colab-wheels/public/simple/\n",
            "Collecting pyspark\n",
            "  Downloading pyspark-3.4.1.tar.gz (310.8 MB)\n",
            "\u001b[2K     \u001b[90m━━━━━━━━━━━━━━━━━━━━━━━━━━━━━━━━━━━━━━━\u001b[0m \u001b[32m310.8/310.8 MB\u001b[0m \u001b[31m4.6 MB/s\u001b[0m eta \u001b[36m0:00:00\u001b[0m\n",
            "\u001b[?25h  Preparing metadata (setup.py) ... \u001b[?25l\u001b[?25hdone\n",
            "Requirement already satisfied: py4j==0.10.9.7 in /usr/local/lib/python3.10/dist-packages (from pyspark) (0.10.9.7)\n",
            "Building wheels for collected packages: pyspark\n",
            "  Building wheel for pyspark (setup.py) ... \u001b[?25l\u001b[?25hdone\n",
            "  Created wheel for pyspark: filename=pyspark-3.4.1-py2.py3-none-any.whl size=311285398 sha256=94c020385b2491e6c122260167444d5c90c6d1b9dd1aefbd1e97c1750ffb79fa\n",
            "  Stored in directory: /root/.cache/pip/wheels/0d/77/a3/ff2f74cc9ab41f8f594dabf0579c2a7c6de920d584206e0834\n",
            "Successfully built pyspark\n",
            "Installing collected packages: pyspark\n",
            "Successfully installed pyspark-3.4.1\n"
          ]
        }
      ]
    },
    {
      "cell_type": "code",
      "source": [
        "from pyspark.sql import SparkSession\n",
        "\n",
        "spark = SparkSession.builder\\\n",
        "        .master(\"local\")\\\n",
        "        .appName(\"Colab\")\\\n",
        "        .getOrCreate()"
      ],
      "metadata": {
        "id": "IfzfvvyWXFdb"
      },
      "execution_count": 3,
      "outputs": []
    },
    {
      "cell_type": "markdown",
      "source": [
        "#**Loading data in Spark dataframe**"
      ],
      "metadata": {
        "id": "2FyVc-z_ckdT"
      }
    },
    {
      "cell_type": "code",
      "source": [
        "# Download data\n",
        "!wget https://raw.githubusercontent.com/uiuc-cse/data-fa14/gh-pages/data/iris.csv\n",
        "\n",
        "data_path = 'iris.csv'"
      ],
      "metadata": {
        "id": "dHcYFsUbSh8i",
        "colab": {
          "base_uri": "https://localhost:8080/"
        },
        "outputId": "f2387fa9-8ea4-4bef-eac5-4fe8c0f82558"
      },
      "execution_count": 4,
      "outputs": [
        {
          "output_type": "stream",
          "name": "stdout",
          "text": [
            "--2023-06-25 08:41:55--  https://raw.githubusercontent.com/uiuc-cse/data-fa14/gh-pages/data/iris.csv\n",
            "Resolving raw.githubusercontent.com (raw.githubusercontent.com)... 185.199.108.133, 185.199.109.133, 185.199.110.133, ...\n",
            "Connecting to raw.githubusercontent.com (raw.githubusercontent.com)|185.199.108.133|:443... connected.\n",
            "HTTP request sent, awaiting response... 200 OK\n",
            "Length: 3716 (3.6K) [text/plain]\n",
            "Saving to: ‘iris.csv’\n",
            "\n",
            "iris.csv            100%[===================>]   3.63K  --.-KB/s    in 0s      \n",
            "\n",
            "2023-06-25 08:41:55 (47.3 MB/s) - ‘iris.csv’ saved [3716/3716]\n",
            "\n"
          ]
        }
      ]
    },
    {
      "cell_type": "code",
      "source": [
        "#@title\n",
        "# # Alternative data source - 1\n",
        "# !wget https://archive.ics.uci.edu/static/public/53/iris.zip\n",
        "# !unzip iris.zip\n",
        "# data_path = 'iris.data'\n",
        "\n",
        "#########################################\n",
        "\n",
        "# # Alternative data source -2\n",
        "# !wget https://gist.githubusercontent.com/curran/a08a1080b88344b0c8a7/raw/d546eaee765268bf2f487608c537c05e22e4b221/iris.csv\n",
        "# data_path = 'iris.csv'"
      ],
      "metadata": {
        "id": "FmnJPf79AVT8"
      },
      "execution_count": 5,
      "outputs": []
    },
    {
      "cell_type": "code",
      "source": [
        "from pyspark.sql.types import StructType, StructField, DoubleType, StringType\n",
        "\n",
        "# Manually setup the column names and data types.\n",
        "schema = StructType([\n",
        "    StructField('sepal_length', DoubleType(), True),\n",
        "    StructField('sepal_width', DoubleType(), True),\n",
        "    StructField('petal_length', DoubleType(), True),\n",
        "    StructField('petal_width', DoubleType(), True),\n",
        "    StructField('species', StringType(), True)\n",
        "])\n",
        "\n",
        "df = spark.read.options(header=True).csv(data_path, schema=schema)\n",
        "df.show(5)"
      ],
      "metadata": {
        "id": "gKJ7nXFRWzgi",
        "colab": {
          "base_uri": "https://localhost:8080/"
        },
        "outputId": "abc2cb60-16ca-4c21-d93c-264b7fed99c1"
      },
      "execution_count": 7,
      "outputs": [
        {
          "output_type": "stream",
          "name": "stdout",
          "text": [
            "+------------+-----------+------------+-----------+-------+\n",
            "|sepal_length|sepal_width|petal_length|petal_width|species|\n",
            "+------------+-----------+------------+-----------+-------+\n",
            "|         5.1|        3.5|         1.4|        0.2| setosa|\n",
            "|         4.9|        3.0|         1.4|        0.2| setosa|\n",
            "|         4.7|        3.2|         1.3|        0.2| setosa|\n",
            "|         4.6|        3.1|         1.5|        0.2| setosa|\n",
            "|         5.0|        3.6|         1.4|        0.2| setosa|\n",
            "+------------+-----------+------------+-----------+-------+\n",
            "only showing top 5 rows\n",
            "\n"
          ]
        }
      ]
    },
    {
      "cell_type": "code",
      "source": [
        "df.show(10)"
      ],
      "metadata": {
        "colab": {
          "base_uri": "https://localhost:8080/"
        },
        "id": "O44vvrAfOIzt",
        "outputId": "3b99c622-9115-433b-f541-2e0baff0065a"
      },
      "execution_count": 8,
      "outputs": [
        {
          "output_type": "stream",
          "name": "stdout",
          "text": [
            "+------------+-----------+------------+-----------+-------+\n",
            "|sepal_length|sepal_width|petal_length|petal_width|species|\n",
            "+------------+-----------+------------+-----------+-------+\n",
            "|         5.1|        3.5|         1.4|        0.2| setosa|\n",
            "|         4.9|        3.0|         1.4|        0.2| setosa|\n",
            "|         4.7|        3.2|         1.3|        0.2| setosa|\n",
            "|         4.6|        3.1|         1.5|        0.2| setosa|\n",
            "|         5.0|        3.6|         1.4|        0.2| setosa|\n",
            "|         5.4|        3.9|         1.7|        0.4| setosa|\n",
            "|         4.6|        3.4|         1.4|        0.3| setosa|\n",
            "|         5.0|        3.4|         1.5|        0.2| setosa|\n",
            "|         4.4|        2.9|         1.4|        0.2| setosa|\n",
            "|         4.9|        3.1|         1.5|        0.1| setosa|\n",
            "+------------+-----------+------------+-----------+-------+\n",
            "only showing top 10 rows\n",
            "\n"
          ]
        }
      ]
    },
    {
      "cell_type": "markdown",
      "source": [
        "**Viewing Dataframe Columns**"
      ],
      "metadata": {
        "id": "dD0uwcfum9G9"
      }
    },
    {
      "cell_type": "code",
      "source": [
        "columns = list(df.columns)\n",
        "columns"
      ],
      "metadata": {
        "id": "NPdOWvdJXFv0",
        "colab": {
          "base_uri": "https://localhost:8080/"
        },
        "outputId": "29dec116-039a-4e9b-dd8c-b7d57393d7af"
      },
      "execution_count": 9,
      "outputs": [
        {
          "output_type": "execute_result",
          "data": {
            "text/plain": [
              "['sepal_length', 'sepal_width', 'petal_length', 'petal_width', 'species']"
            ]
          },
          "metadata": {},
          "execution_count": 9
        }
      ]
    },
    {
      "cell_type": "markdown",
      "source": [
        "**Dataframe Schema**"
      ],
      "metadata": {
        "id": "CjWYOYyhnok9"
      }
    },
    {
      "cell_type": "code",
      "source": [
        "df.printSchema()"
      ],
      "metadata": {
        "id": "kE74ocasm8gN",
        "colab": {
          "base_uri": "https://localhost:8080/"
        },
        "outputId": "95594f3b-1b1b-4a7e-9460-d9c0192d12d8"
      },
      "execution_count": 10,
      "outputs": [
        {
          "output_type": "stream",
          "name": "stdout",
          "text": [
            "root\n",
            " |-- sepal_length: double (nullable = true)\n",
            " |-- sepal_width: double (nullable = true)\n",
            " |-- petal_length: double (nullable = true)\n",
            " |-- petal_width: double (nullable = true)\n",
            " |-- species: string (nullable = true)\n",
            "\n"
          ]
        }
      ]
    },
    {
      "cell_type": "code",
      "source": [
        "df.dtypes"
      ],
      "metadata": {
        "id": "-ignLmBvnuYd",
        "colab": {
          "base_uri": "https://localhost:8080/"
        },
        "outputId": "0418c5e9-a0de-4751-dd5e-fcb4f8359ecf"
      },
      "execution_count": 11,
      "outputs": [
        {
          "output_type": "execute_result",
          "data": {
            "text/plain": [
              "[('sepal_length', 'double'),\n",
              " ('sepal_width', 'double'),\n",
              " ('petal_length', 'double'),\n",
              " ('petal_width', 'double'),\n",
              " ('species', 'string')]"
            ]
          },
          "metadata": {},
          "execution_count": 11
        }
      ]
    },
    {
      "cell_type": "markdown",
      "source": [
        "#**DataFrame Operations on Columns**\n",
        "\n",
        "We will go over the following in this section:\n",
        "\n",
        "1.   Selecting Columns\n",
        "2.   Selecting Multiple Columns\n",
        "3.   Adding New Columns\n",
        "4.   Grouping By Columns\n",
        "5.   Removing Columns\n",
        "6.   Use filter"
      ],
      "metadata": {
        "id": "ZUQFZ51roay8"
      }
    },
    {
      "cell_type": "markdown",
      "source": [
        "**Selecting Columns**"
      ],
      "metadata": {
        "id": "ZmE9SRQCp_4t"
      }
    },
    {
      "cell_type": "code",
      "source": [
        "# Column name is case sensitive in this usage\n",
        "print(df.species)\n",
        "print(\"*\"*20)\n",
        "df.select(df.species).show(truncate=False)"
      ],
      "metadata": {
        "id": "o-WaUxcWoSQ8",
        "colab": {
          "base_uri": "https://localhost:8080/"
        },
        "outputId": "3cdfe15d-0e61-4666-dac2-ee29a78c1c33"
      },
      "execution_count": 14,
      "outputs": [
        {
          "output_type": "stream",
          "name": "stdout",
          "text": [
            "Column<'species'>\n",
            "********************\n",
            "+-------+\n",
            "|species|\n",
            "+-------+\n",
            "|setosa |\n",
            "|setosa |\n",
            "|setosa |\n",
            "|setosa |\n",
            "|setosa |\n",
            "|setosa |\n",
            "|setosa |\n",
            "|setosa |\n",
            "|setosa |\n",
            "|setosa |\n",
            "|setosa |\n",
            "|setosa |\n",
            "|setosa |\n",
            "|setosa |\n",
            "|setosa |\n",
            "|setosa |\n",
            "|setosa |\n",
            "|setosa |\n",
            "|setosa |\n",
            "|setosa |\n",
            "+-------+\n",
            "only showing top 20 rows\n",
            "\n"
          ]
        }
      ]
    },
    {
      "cell_type": "code",
      "source": [
        "print(df.species, df.petal_length)\n",
        "print(\"*\"*40)\n",
        "df.select(df.species, df.petal_length).show(truncate=False)"
      ],
      "metadata": {
        "id": "2YHYIWmPqXvN",
        "colab": {
          "base_uri": "https://localhost:8080/"
        },
        "outputId": "e9d373e1-db06-41e8-ada7-c26d18dc026d"
      },
      "execution_count": 17,
      "outputs": [
        {
          "output_type": "stream",
          "name": "stdout",
          "text": [
            "Column<'species'> Column<'petal_length'>\n",
            "****************************************\n",
            "+-------+------------+\n",
            "|species|petal_length|\n",
            "+-------+------------+\n",
            "|setosa |1.4         |\n",
            "|setosa |1.4         |\n",
            "|setosa |1.3         |\n",
            "|setosa |1.5         |\n",
            "|setosa |1.4         |\n",
            "|setosa |1.7         |\n",
            "|setosa |1.4         |\n",
            "|setosa |1.5         |\n",
            "|setosa |1.4         |\n",
            "|setosa |1.5         |\n",
            "|setosa |1.5         |\n",
            "|setosa |1.6         |\n",
            "|setosa |1.4         |\n",
            "|setosa |1.1         |\n",
            "|setosa |1.2         |\n",
            "|setosa |1.5         |\n",
            "|setosa |1.3         |\n",
            "|setosa |1.4         |\n",
            "|setosa |1.7         |\n",
            "|setosa |1.5         |\n",
            "+-------+------------+\n",
            "only showing top 20 rows\n",
            "\n"
          ]
        }
      ]
    },
    {
      "cell_type": "markdown",
      "source": [
        "**Adding new columns**"
      ],
      "metadata": {
        "id": "N8s520eurNMt"
      }
    },
    {
      "cell_type": "code",
      "source": [
        "from pyspark.sql.functions import lit\n",
        "df = df.withColumn('type',lit('flower'))\n",
        "# lit means literal. It populates the row with the literal value given.\n",
        "# When adding static data / constant values, it is a good practice to use it.\n",
        "df.show(5,truncate=False)"
      ],
      "metadata": {
        "id": "i3xReo4kqjb8",
        "colab": {
          "base_uri": "https://localhost:8080/"
        },
        "outputId": "89d60473-7c19-47a0-96f6-25346b1d4294"
      },
      "execution_count": 19,
      "outputs": [
        {
          "output_type": "stream",
          "name": "stdout",
          "text": [
            "+------------+-----------+------------+-----------+-------+------+\n",
            "|sepal_length|sepal_width|petal_length|petal_width|species|type  |\n",
            "+------------+-----------+------------+-----------+-------+------+\n",
            "|5.1         |3.5        |1.4         |0.2        |setosa |flower|\n",
            "|4.9         |3.0        |1.4         |0.2        |setosa |flower|\n",
            "|4.7         |3.2        |1.3         |0.2        |setosa |flower|\n",
            "|4.6         |3.1        |1.5         |0.2        |setosa |flower|\n",
            "|5.0         |3.6        |1.4         |0.2        |setosa |flower|\n",
            "+------------+-----------+------------+-----------+-------+------+\n",
            "only showing top 5 rows\n",
            "\n"
          ]
        }
      ]
    },
    {
      "cell_type": "markdown",
      "source": [
        "**Merging two existing columns**"
      ],
      "metadata": {
        "id": "xQ3JVVO8BxSq"
      }
    },
    {
      "cell_type": "code",
      "source": [
        "from pyspark.sql.functions import concat\n",
        "from pyspark.sql.functions import col\n",
        "df = df.withColumn('result', concat(col(\"species\"), lit(\" \"), col(\"type\")))\n",
        "# 'concat' is a function that concatenates the values of multiple columns into a single column.\n",
        "# In this example, it concatenates the values in the \"species\" column, a space character, and the values in the \"type\" column.\n",
        "df.show(5,truncate=False)"
      ],
      "metadata": {
        "id": "XoA0-6Llra1U",
        "colab": {
          "base_uri": "https://localhost:8080/"
        },
        "outputId": "e530fefd-999a-4fb4-fe84-cb3b8ba3108f"
      },
      "execution_count": 20,
      "outputs": [
        {
          "output_type": "stream",
          "name": "stdout",
          "text": [
            "+------------+-----------+------------+-----------+-------+------+-------------+\n",
            "|sepal_length|sepal_width|petal_length|petal_width|species|type  |result       |\n",
            "+------------+-----------+------------+-----------+-------+------+-------------+\n",
            "|5.1         |3.5        |1.4         |0.2        |setosa |flower|setosa flower|\n",
            "|4.9         |3.0        |1.4         |0.2        |setosa |flower|setosa flower|\n",
            "|4.7         |3.2        |1.3         |0.2        |setosa |flower|setosa flower|\n",
            "|4.6         |3.1        |1.5         |0.2        |setosa |flower|setosa flower|\n",
            "|5.0         |3.6        |1.4         |0.2        |setosa |flower|setosa flower|\n",
            "+------------+-----------+------------+-----------+-------+------+-------------+\n",
            "only showing top 5 rows\n",
            "\n"
          ]
        }
      ]
    },
    {
      "cell_type": "markdown",
      "source": [
        "**Grouping by Columns**"
      ],
      "metadata": {
        "id": "bApZP8oDtyyt"
      }
    },
    {
      "cell_type": "code",
      "source": [
        "# Group By a column in PySpark\n",
        "df.groupBy('species').count().show()"
      ],
      "metadata": {
        "id": "JWBH7dvUtaVl",
        "colab": {
          "base_uri": "https://localhost:8080/"
        },
        "outputId": "af99fb88-ec53-4e50-fc9a-2f4a102e7a6a"
      },
      "execution_count": 22,
      "outputs": [
        {
          "output_type": "stream",
          "name": "stdout",
          "text": [
            "+----------+-----+\n",
            "|   species|count|\n",
            "+----------+-----+\n",
            "| virginica|   50|\n",
            "|versicolor|   50|\n",
            "|    setosa|   50|\n",
            "+----------+-----+\n",
            "\n"
          ]
        }
      ]
    },
    {
      "cell_type": "code",
      "source": [
        "# Group By multiple columns in PySpark\n",
        "df.groupBy('species', 'sepal_length').count().show()"
      ],
      "metadata": {
        "id": "LpKO-p31tnwl",
        "colab": {
          "base_uri": "https://localhost:8080/"
        },
        "outputId": "910c62f5-d9aa-405f-87cd-10185671ac71"
      },
      "execution_count": 23,
      "outputs": [
        {
          "output_type": "stream",
          "name": "stdout",
          "text": [
            "+----------+------------+-----+\n",
            "|   species|sepal_length|count|\n",
            "+----------+------------+-----+\n",
            "| virginica|         4.9|    1|\n",
            "|    setosa|         4.8|    5|\n",
            "|versicolor|         6.8|    1|\n",
            "|    setosa|         4.9|    4|\n",
            "|versicolor|         5.2|    1|\n",
            "|versicolor|         5.9|    2|\n",
            "|versicolor|         6.9|    1|\n",
            "|versicolor|         5.1|    1|\n",
            "|versicolor|         5.7|    5|\n",
            "| virginica|         7.9|    1|\n",
            "| virginica|         7.3|    1|\n",
            "|versicolor|         7.0|    1|\n",
            "|    setosa|         5.1|    8|\n",
            "|    setosa|         4.6|    4|\n",
            "|    setosa|         5.3|    1|\n",
            "|versicolor|         5.4|    1|\n",
            "| virginica|         6.7|    5|\n",
            "|    setosa|         5.2|    3|\n",
            "| virginica|         7.7|    4|\n",
            "| virginica|         6.1|    2|\n",
            "+----------+------------+-----+\n",
            "only showing top 20 rows\n",
            "\n"
          ]
        }
      ]
    },
    {
      "cell_type": "markdown",
      "source": [
        "**Removing Columns**"
      ],
      "metadata": {
        "id": "gOEws5RruBEk"
      }
    },
    {
      "cell_type": "code",
      "source": [
        "#Remove columns in PySpark\n",
        "df = df.drop('result')\n",
        "df = df.drop('type')\n",
        "df.show(5,truncate=False)"
      ],
      "metadata": {
        "id": "5Pit4EhRt6sc",
        "colab": {
          "base_uri": "https://localhost:8080/"
        },
        "outputId": "0b4569f1-a182-48ad-d7c0-b38822eb054d"
      },
      "execution_count": 25,
      "outputs": [
        {
          "output_type": "stream",
          "name": "stdout",
          "text": [
            "+------------+-----------+------------+-----------+-------+\n",
            "|sepal_length|sepal_width|petal_length|petal_width|species|\n",
            "+------------+-----------+------------+-----------+-------+\n",
            "|5.1         |3.5        |1.4         |0.2        |setosa |\n",
            "|4.9         |3.0        |1.4         |0.2        |setosa |\n",
            "|4.7         |3.2        |1.3         |0.2        |setosa |\n",
            "|4.6         |3.1        |1.5         |0.2        |setosa |\n",
            "|5.0         |3.6        |1.4         |0.2        |setosa |\n",
            "+------------+-----------+------------+-----------+-------+\n",
            "only showing top 5 rows\n",
            "\n"
          ]
        }
      ]
    },
    {
      "cell_type": "markdown",
      "source": [
        "**Use filter**"
      ],
      "metadata": {
        "id": "ME3y7iBfYJQE"
      }
    },
    {
      "cell_type": "code",
      "source": [
        "df.filter(df['sepal_length']==5.1).show()"
      ],
      "metadata": {
        "id": "ltzq-hUSYLgR",
        "colab": {
          "base_uri": "https://localhost:8080/"
        },
        "outputId": "3f7e2cf6-366f-49a0-944e-560465d75735"
      },
      "execution_count": 26,
      "outputs": [
        {
          "output_type": "stream",
          "name": "stdout",
          "text": [
            "+------------+-----------+------------+-----------+----------+\n",
            "|sepal_length|sepal_width|petal_length|petal_width|   species|\n",
            "+------------+-----------+------------+-----------+----------+\n",
            "|         5.1|        3.5|         1.4|        0.2|    setosa|\n",
            "|         5.1|        3.5|         1.4|        0.3|    setosa|\n",
            "|         5.1|        3.8|         1.5|        0.3|    setosa|\n",
            "|         5.1|        3.7|         1.5|        0.4|    setosa|\n",
            "|         5.1|        3.3|         1.7|        0.5|    setosa|\n",
            "|         5.1|        3.4|         1.5|        0.2|    setosa|\n",
            "|         5.1|        3.8|         1.9|        0.4|    setosa|\n",
            "|         5.1|        3.8|         1.6|        0.2|    setosa|\n",
            "|         5.1|        2.5|         3.0|        1.1|versicolor|\n",
            "+------------+-----------+------------+-----------+----------+\n",
            "\n"
          ]
        }
      ]
    },
    {
      "cell_type": "markdown",
      "source": [
        "#**Visualization**"
      ],
      "metadata": {
        "id": "uSisctUQg_L8"
      }
    },
    {
      "cell_type": "code",
      "source": [
        "# Visualize the distribution for each numerical column\n",
        "import matplotlib.pyplot as plt\n",
        "\n",
        "# Convert the spark dataframe to Pandas dataframe\n",
        "df_pd = df.toPandas()\n",
        "df_pd.hist(figsize=(12,8))\n",
        "plt.tight_layout()\n",
        "plt.show()\n"
      ],
      "metadata": {
        "id": "IJAzadcXZvMt",
        "colab": {
          "base_uri": "https://localhost:8080/",
          "height": 807
        },
        "outputId": "505ef3e0-caf9-49cc-cf5d-b0e6e931ea53"
      },
      "execution_count": 28,
      "outputs": [
        {
          "output_type": "display_data",
          "data": {
            "text/plain": [
              "<Figure size 1200x800 with 4 Axes>"
            ],
            "image/png": "[encoded data removed]"
          },
          "metadata": {}
        }
      ]
    },
    {
      "cell_type": "markdown",
      "source": [
        "#**Machine Learning on Data**"
      ],
      "metadata": {
        "id": "H1idyx7CgcDa"
      }
    },
    {
      "cell_type": "markdown",
      "source": [
        "First, we need to convert the categorical label column species into a numerical label column label using the StringIndexer transformer from the pyspark.ml.feature module:"
      ],
      "metadata": {
        "id": "4bY4sovsn7_7"
      }
    },
    {
      "cell_type": "code",
      "source": [
        "from pyspark.ml.feature import StringIndexer\n",
        "\n",
        "label_indexer = StringIndexer(inputCol='species', outputCol='label')\n",
        "df = label_indexer.fit(df).transform(df)"
      ],
      "metadata": {
        "id": "rIzySmpAdKx1"
      },
      "execution_count": null,
      "outputs": []
    },
    {
      "cell_type": "code",
      "source": [
        "# Check how the species are indexed\n",
        "df.groupBy(df.species, df.label).count().show(5)"
      ],
      "metadata": {
        "id": "E97S2Ysx3hIe",
        "colab": {
          "base_uri": "https://localhost:8080/"
        },
        "outputId": "4527907e-72b7-4c2b-9239-bf6a962c0ab6"
      },
      "execution_count": 36,
      "outputs": [
        {
          "output_type": "stream",
          "name": "stdout",
          "text": [
            "+----------+-----+-----+\n",
            "|   species|label|count|\n",
            "+----------+-----+-----+\n",
            "|    setosa|  0.0|   50|\n",
            "| virginica|  2.0|   50|\n",
            "|versicolor|  1.0|   50|\n",
            "+----------+-----+-----+\n",
            "\n"
          ]
        }
      ]
    },
    {
      "cell_type": "markdown",
      "source": [
        "Next, we need to split the data into training and testing sets using the randomSplit() method"
      ],
      "metadata": {
        "id": "nQ0tSvmKobi7"
      }
    },
    {
      "cell_type": "code",
      "source": [
        "train_data, test_data = df.randomSplit([0.7, 0.3], seed=42)"
      ],
      "metadata": {
        "id": "JCA-Ux4toXB2"
      },
      "execution_count": 37,
      "outputs": []
    },
    {
      "cell_type": "markdown",
      "source": [
        "We need to create a feature vector from the input features (i.e., 'sepal_length', 'sepal_width', 'petal_length', 'petal_width') in order to train a machine learning model. We can use the VectorAssembler transformer from the pyspark.ml.feature module to create the feature vector:"
      ],
      "metadata": {
        "id": "gjsU1r9EogYx"
      }
    },
    {
      "cell_type": "code",
      "source": [
        "from pyspark.ml.feature import VectorAssembler\n",
        "\n",
        "assembler = VectorAssembler(inputCols=['sepal_length', 'sepal_width', 'petal_length', 'petal_width'], outputCol='features')\n",
        "train_data = assembler.transform(train_data)\n",
        "test_data = assembler.transform(test_data)"
      ],
      "metadata": {
        "id": "ODk4mgL4of_F"
      },
      "execution_count": 38,
      "outputs": []
    },
    {
      "cell_type": "markdown",
      "source": [
        "Now that we have prepared the data, we can train and evaluate a machine learning model on the iris dataset. We will use a simple logistic regression model:"
      ],
      "metadata": {
        "id": "CYDIzDu1qmRs"
      }
    },
    {
      "cell_type": "code",
      "source": [
        "from pyspark.ml.classification import LogisticRegression\n",
        "from pyspark.ml.evaluation import MulticlassClassificationEvaluator\n",
        "\n",
        "# Train a logistic regression model on the training data\n",
        "lr = LogisticRegression(featuresCol='features', labelCol='label', maxIter=10)\n",
        "lr_model = lr.fit(train_data)\n",
        "\n",
        "# Make predictions on the testing data\n",
        "lr_predictions = lr_model.transform(test_data)\n",
        "\n",
        "# Evaluate the accuracy of the model\n",
        "lr_evaluator = MulticlassClassificationEvaluator(predictionCol='prediction', labelCol='label', metricName='accuracy')\n",
        "lr_accuracy = lr_evaluator.evaluate(lr_predictions)\n",
        "\n",
        "print(f'Logistic Regression accuracy: {lr_accuracy:.4f}')"
      ],
      "metadata": {
        "id": "ukdr-r4CoW9p",
        "colab": {
          "base_uri": "https://localhost:8080/"
        },
        "outputId": "3229e32d-aa4d-46a3-bb3d-335ccd354263"
      },
      "execution_count": 39,
      "outputs": [
        {
          "output_type": "stream",
          "name": "stdout",
          "text": [
            "Logistic Regression accuracy: 0.9783\n"
          ]
        }
      ]
    },
    {
      "cell_type": "markdown",
      "source": [
        "Finally, we can interpret the results of the machine learning model. For example, we can display the predicted labels and actual labels for the first 10 rows of the testing data using the show() method:"
      ],
      "metadata": {
        "id": "oH8iyM9Zq0dh"
      }
    },
    {
      "cell_type": "code",
      "source": [
        "lr_predictions.select('prediction', 'label').show(20)"
      ],
      "metadata": {
        "id": "A6lG3cqVoW5g",
        "colab": {
          "base_uri": "https://localhost:8080/"
        },
        "outputId": "921aa296-fa4b-4873-a606-046228f17b69"
      },
      "execution_count": 40,
      "outputs": [
        {
          "output_type": "stream",
          "name": "stdout",
          "text": [
            "+----------+-----+\n",
            "|prediction|label|\n",
            "+----------+-----+\n",
            "|       0.0|  0.0|\n",
            "|       0.0|  0.0|\n",
            "|       0.0|  0.0|\n",
            "|       0.0|  0.0|\n",
            "|       0.0|  0.0|\n",
            "|       0.0|  0.0|\n",
            "|       0.0|  0.0|\n",
            "|       0.0|  0.0|\n",
            "|       0.0|  0.0|\n",
            "|       1.0|  1.0|\n",
            "|       0.0|  0.0|\n",
            "|       0.0|  0.0|\n",
            "|       0.0|  0.0|\n",
            "|       0.0|  0.0|\n",
            "|       1.0|  1.0|\n",
            "|       0.0|  0.0|\n",
            "|       0.0|  0.0|\n",
            "|       0.0|  0.0|\n",
            "|       0.0|  0.0|\n",
            "|       0.0|  0.0|\n",
            "+----------+-----+\n",
            "only showing top 20 rows\n",
            "\n"
          ]
        }
      ]
    },
    {
      "cell_type": "markdown",
      "source": [
        "We can also compute the confusion matrix and other classification metrics:"
      ],
      "metadata": {
        "id": "_zWZOIvSrHnb"
      }
    },
    {
      "cell_type": "code",
      "source": [
        "from pyspark.ml.evaluation import MulticlassClassificationEvaluator\n",
        "\n",
        "# Evaluate the logistic regression model\n",
        "evaluator = MulticlassClassificationEvaluator(predictionCol='prediction', labelCol='label')\n",
        "\n",
        "# Compute the confusion matrix and other classification metrics for the logistic regression model\n",
        "lr_confusion_matrix = lr_predictions.groupBy('label', 'prediction').count().orderBy('label', 'prediction').toPandas().pivot('label', 'prediction', 'count').fillna(0)\n",
        "lr_precision = evaluator.evaluate(lr_predictions, {evaluator.metricName: 'weightedPrecision'})\n",
        "lr_recall = evaluator.evaluate(lr_predictions, {evaluator.metricName: 'weightedRecall'})\n",
        "lr_f1_score = evaluator.evaluate(lr_predictions, {evaluator.metricName: 'f1'})\n",
        "\n",
        "# Print the classification metrics for the logistic regression model\n",
        "print('Logistic Regression Classification Metrics\\n\\n')\n",
        "print(f'Confusion Matrix:\\n{lr_confusion_matrix}\\n')\n",
        "print(f'Precision: {lr_precision:.4f}\\n')\n",
        "print(f'Recall: {lr_recall:.4f}\\n')\n",
        "print(f'F1 Score: {lr_f1_score:.4f}')"
      ],
      "metadata": {
        "id": "0pmcvioaoW0j",
        "colab": {
          "base_uri": "https://localhost:8080/"
        },
        "outputId": "ed604768-ed32-4aff-b767-85069da551b4"
      },
      "execution_count": 41,
      "outputs": [
        {
          "output_type": "stream",
          "name": "stdout",
          "text": [
            "Logistic Regression Classification Metrics\n",
            "\n",
            "\n",
            "Confusion Matrix:\n",
            "prediction   0.0   1.0  2.0\n",
            "label                      \n",
            "0.0         22.0   0.0  0.0\n",
            "1.0          0.0  14.0  1.0\n",
            "2.0          0.0   0.0  9.0\n",
            "\n",
            "Precision: 0.9804\n",
            "\n",
            "Recall: 0.9783\n",
            "\n",
            "F1 Score: 0.9785\n"
          ]
        }
      ]
    },
    {
      "cell_type": "code",
      "source": [],
      "metadata": {
        "id": "6rNdm-BWoWj6"
      },
      "execution_count": null,
      "outputs": []
    },
    {
      "cell_type": "code",
      "source": [],
      "metadata": {
        "id": "wCkkP0zWga47"
      },
      "execution_count": null,
      "outputs": []
    },
    {
      "cell_type": "markdown",
      "source": [
        "# **Todo Practices**"
      ],
      "metadata": {
        "id": "P50BPZiGY_9j"
      }
    },
    {
      "cell_type": "markdown",
      "source": [
        "Refer to the PySpark official documentation for more info about spark dataframe:  https://spark.apache.org/docs/latest/api/python/reference/pyspark.pandas/frame.html"
      ],
      "metadata": {
        "id": "9AZQcP8uhq-1"
      }
    },
    {
      "cell_type": "code",
      "source": [
        "#### Please run below code to reload the dataframe ####\n",
        "from pyspark.sql.types import StructType, StructField, DoubleType, StringType\n",
        "\n",
        "# Manually setup the column names and data types.\n",
        "schema = StructType([\n",
        "    StructField('sepal_length', DoubleType(), True),\n",
        "    StructField('sepal_width', DoubleType(), True),\n",
        "    StructField('petal_length', DoubleType(), True),\n",
        "    StructField('petal_width', DoubleType(), True),\n",
        "    StructField('species', StringType(), True)\n",
        "])\n",
        "\n",
        "df = spark.read.options(header=True).csv(data_path, schema=schema)"
      ],
      "metadata": {
        "id": "Y0PwCoAY4OLO"
      },
      "execution_count": 42,
      "outputs": []
    },
    {
      "cell_type": "markdown",
      "source": [
        "## Q1. Select column \"sepal_length\", \"sepal_width\"."
      ],
      "metadata": {
        "id": "vG58IxSVZXQk"
      }
    },
    {
      "cell_type": "code",
      "source": [
        "print('sepal_length', 'sepal_width')\n",
        "print(\"*\"*40)\n",
        "df.select(df.sepal_length, df.sepal_width).show(truncate=False)"
      ],
      "metadata": {
        "id": "nQQQgUY_ZDFx",
        "colab": {
          "base_uri": "https://localhost:8080/"
        },
        "outputId": "eea471c0-e1c7-4c11-e9e2-68155bb38681"
      },
      "execution_count": 43,
      "outputs": [
        {
          "output_type": "stream",
          "name": "stdout",
          "text": [
            "sepal_length sepal_width\n",
            "****************************************\n",
            "+------------+-----------+\n",
            "|sepal_length|sepal_width|\n",
            "+------------+-----------+\n",
            "|5.1         |3.5        |\n",
            "|4.9         |3.0        |\n",
            "|4.7         |3.2        |\n",
            "|4.6         |3.1        |\n",
            "|5.0         |3.6        |\n",
            "|5.4         |3.9        |\n",
            "|4.6         |3.4        |\n",
            "|5.0         |3.4        |\n",
            "|4.4         |2.9        |\n",
            "|4.9         |3.1        |\n",
            "|5.4         |3.7        |\n",
            "|4.8         |3.4        |\n",
            "|4.8         |3.0        |\n",
            "|4.3         |3.0        |\n",
            "|5.8         |4.0        |\n",
            "|5.7         |4.4        |\n",
            "|5.4         |3.9        |\n",
            "|5.1         |3.5        |\n",
            "|5.7         |3.8        |\n",
            "|5.1         |3.8        |\n",
            "+------------+-----------+\n",
            "only showing top 20 rows\n",
            "\n"
          ]
        }
      ]
    },
    {
      "cell_type": "markdown",
      "source": [
        "## Q2. Add a new column with name \"Zero\" with all values being 0. Show the new dataframe and then delete this column and show the dataframe again."
      ],
      "metadata": {
        "id": "kcvpHrFgd20Z"
      }
    },
    {
      "cell_type": "code",
      "source": [
        "## Your answer"
      ],
      "metadata": {
        "id": "G1TEY_Cwd20e"
      },
      "execution_count": 44,
      "outputs": []
    },
    {
      "cell_type": "code",
      "source": [
        "from pyspark.sql.functions import lit\n",
        "df = df.withColumn('Zero',lit('0'))\n",
        "# lit means literal. It populates the row with the literal value given.\n",
        "# When adding static data / constant values, it is a good practice to use it.\n",
        "df.show(5,truncate=False)"
      ],
      "metadata": {
        "colab": {
          "base_uri": "https://localhost:8080/"
        },
        "id": "dYyUmg5keK9z",
        "outputId": "6e01957b-5221-48c6-e1ff-d687013ab004"
      },
      "execution_count": 45,
      "outputs": [
        {
          "output_type": "stream",
          "name": "stdout",
          "text": [
            "+------------+-----------+------------+-----------+-------+----+\n",
            "|sepal_length|sepal_width|petal_length|petal_width|species|Zero|\n",
            "+------------+-----------+------------+-----------+-------+----+\n",
            "|5.1         |3.5        |1.4         |0.2        |setosa |0   |\n",
            "|4.9         |3.0        |1.4         |0.2        |setosa |0   |\n",
            "|4.7         |3.2        |1.3         |0.2        |setosa |0   |\n",
            "|4.6         |3.1        |1.5         |0.2        |setosa |0   |\n",
            "|5.0         |3.6        |1.4         |0.2        |setosa |0   |\n",
            "+------------+-----------+------------+-----------+-------+----+\n",
            "only showing top 5 rows\n",
            "\n"
          ]
        }
      ]
    },
    {
      "cell_type": "markdown",
      "source": [
        "## Q3. Select all rows where the 'petal_length' is larger than 1.5 and show."
      ],
      "metadata": {
        "id": "eO-iWvusfuLQ"
      }
    },
    {
      "cell_type": "code",
      "source": [
        "## Your answer"
      ],
      "metadata": {
        "id": "VJ_4nv4UfuLV"
      },
      "execution_count": null,
      "outputs": []
    },
    {
      "cell_type": "code",
      "source": [
        "df.filter(df['petal_length']==1.5).show()"
      ],
      "metadata": {
        "colab": {
          "base_uri": "https://localhost:8080/"
        },
        "id": "LJnBIMq9enNz",
        "outputId": "948f2979-b349-43b2-aaaa-b63b1e2387e8"
      },
      "execution_count": 46,
      "outputs": [
        {
          "output_type": "stream",
          "name": "stdout",
          "text": [
            "+------------+-----------+------------+-----------+-------+----+\n",
            "|sepal_length|sepal_width|petal_length|petal_width|species|Zero|\n",
            "+------------+-----------+------------+-----------+-------+----+\n",
            "|         4.6|        3.1|         1.5|        0.2| setosa|   0|\n",
            "|         5.0|        3.4|         1.5|        0.2| setosa|   0|\n",
            "|         4.9|        3.1|         1.5|        0.1| setosa|   0|\n",
            "|         5.4|        3.7|         1.5|        0.2| setosa|   0|\n",
            "|         5.7|        4.4|         1.5|        0.4| setosa|   0|\n",
            "|         5.1|        3.8|         1.5|        0.3| setosa|   0|\n",
            "|         5.1|        3.7|         1.5|        0.4| setosa|   0|\n",
            "|         5.2|        3.5|         1.5|        0.2| setosa|   0|\n",
            "|         5.4|        3.4|         1.5|        0.4| setosa|   0|\n",
            "|         5.2|        4.1|         1.5|        0.1| setosa|   0|\n",
            "|         4.9|        3.1|         1.5|        0.1| setosa|   0|\n",
            "|         4.9|        3.1|         1.5|        0.1| setosa|   0|\n",
            "|         5.1|        3.4|         1.5|        0.2| setosa|   0|\n",
            "|         5.3|        3.7|         1.5|        0.2| setosa|   0|\n",
            "+------------+-----------+------------+-----------+-------+----+\n",
            "\n"
          ]
        }
      ]
    },
    {
      "cell_type": "markdown",
      "source": [
        "## Q4. For all the rows that you have filtered in Q3, group them by species and count each group."
      ],
      "metadata": {
        "id": "s4zjdznjgoiO"
      }
    },
    {
      "cell_type": "code",
      "source": [
        "## Your answer"
      ],
      "metadata": {
        "id": "HgQUsCOygoiP"
      },
      "execution_count": 47,
      "outputs": []
    },
    {
      "cell_type": "code",
      "source": [
        "from numpy.lib.function_base import diff\n",
        "df.filter(df['petal_length']==1.5).groupBy('species').count().show()"
      ],
      "metadata": {
        "colab": {
          "base_uri": "https://localhost:8080/"
        },
        "id": "xBlIpy4lfxta",
        "outputId": "b04cea8a-62d4-4336-ba20-4742af1a4abd"
      },
      "execution_count": 48,
      "outputs": [
        {
          "output_type": "stream",
          "name": "stdout",
          "text": [
            "+-------+-----+\n",
            "|species|count|\n",
            "+-------+-----+\n",
            "| setosa|   14|\n",
            "+-------+-----+\n",
            "\n"
          ]
        }
      ]
    },
    {
      "cell_type": "code",
      "source": [
        "df.groupBy('petal_length').count().show()"
      ],
      "metadata": {
        "id": "BGcYHWr7fAgU",
        "colab": {
          "base_uri": "https://localhost:8080/"
        },
        "outputId": "3e8b6615-3eb8-4197-d1b7-512ae0305398"
      },
      "execution_count": 49,
      "outputs": [
        {
          "output_type": "stream",
          "name": "stdout",
          "text": [
            "+------------+-----+\n",
            "|petal_length|count|\n",
            "+------------+-----+\n",
            "|         5.4|    2|\n",
            "|         3.5|    2|\n",
            "|         6.1|    3|\n",
            "|         6.6|    1|\n",
            "|         3.7|    1|\n",
            "|         4.5|    8|\n",
            "|         5.7|    3|\n",
            "|         1.4|   12|\n",
            "|         1.7|    4|\n",
            "|         6.7|    2|\n",
            "|         4.9|    5|\n",
            "|         1.0|    1|\n",
            "|         4.1|    3|\n",
            "|         4.0|    5|\n",
            "|         1.9|    2|\n",
            "|         3.9|    3|\n",
            "|         3.8|    1|\n",
            "|         5.1|    8|\n",
            "|         4.2|    4|\n",
            "|         1.3|    7|\n",
            "+------------+-----+\n",
            "only showing top 20 rows\n",
            "\n"
          ]
        }
      ]
    }
  ]
}